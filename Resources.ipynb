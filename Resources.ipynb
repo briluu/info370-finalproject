{
 "cells": [
  {
   "cell_type": "markdown",
   "metadata": {},
   "source": [
    "<h1><center>INFO 370 Final Project Resource: Predicting Global Dietary Risks</center></h1>\n",
    "<h2><center>Brian Luu, Sherry Gao, Youta Ishii, Zak Zheng</center></h2>"
   ]
  },
  {
   "cell_type": "markdown",
   "metadata": {},
   "source": [
    "In this project, we aim to gain understanding of how certain food cultures influence the overall health of a person. We will be taking a look at countries with unique food cultures and seeing how the differences influence a human being based on several health metrics. (Life Expectancy, Rate of Disease Infection, Infant Mortality Rates, etc.)  \n",
    "\n",
    "\n",
    "We obtained our dataset from GHDx: \n",
    "http://ghdx.healthdata.org/gbd-results-tool/\n",
    "\n",
    "The column glossary can be found on\n",
    "http://www.healthdata.org/terms-defined"
   ]
  },
  {
   "cell_type": "markdown",
   "metadata": {},
   "source": [
    "## Set up"
   ]
  },
  {
   "cell_type": "code",
   "execution_count": 25,
   "metadata": {
    "collapsed": false
   },
   "outputs": [],
   "source": [
    "%matplotlib inline\n",
    "import matplotlib.pyplot as plt\n",
    "import numpy as np\n",
    "from sklearn import datasets, linear_model\n",
    "import seaborn as sns\n",
    "import statsmodels.formula.api as smf # linear modeling\n",
    "import statsmodels.api as sm\n",
    "\n",
    "# Read in data\n",
    "import pandas as pd\n",
    "df = pd.read_csv('./final.csv')\n",
    "#import the module so that we can tables when printing dataframes\n",
    "from IPython.display import display, HTML"
   ]
  },
  {
   "cell_type": "markdown",
   "metadata": {},
   "source": [
    "**We will be taking in data from the following years to train our model**"
   ]
  },
  {
   "cell_type": "code",
   "execution_count": 19,
   "metadata": {
    "collapsed": false
   },
   "outputs": [
    {
     "name": "stdout",
     "output_type": "stream",
     "text": [
      "[1990 1995 2000 2010 2005 2015]\n"
     ]
    }
   ],
   "source": [
    "df_years = df.year.unique()\n",
    "print(df_years)"
   ]
  },
  {
   "cell_type": "markdown",
   "metadata": {},
   "source": [
    "**We will be taking data that are collected from the following 8 regions**"
   ]
  },
  {
   "cell_type": "code",
   "execution_count": 20,
   "metadata": {
    "collapsed": false
   },
   "outputs": [
    {
     "name": "stdout",
     "output_type": "stream",
     "text": [
      "['Global' 'Latin America & Caribbean - WB' 'Europe & Central Asia - WB'\n",
      " 'North America' 'South Asia - WB' 'East Asia & Pacific - WB'\n",
      " 'Sub-Saharan Africa - WB' 'Middle East & North Africa - WB']\n"
     ]
    }
   ],
   "source": [
    "df_locations = df.location_name.unique()\n",
    "print(df_locations)"
   ]
  },
  {
   "cell_type": "code",
   "execution_count": 21,
   "metadata": {
    "collapsed": false
   },
   "outputs": [],
   "source": [
    "# Create dataframes for each risk\n",
    "df = df[df.rei_name != 'Low physical activity']\n",
    "df = df[df.rei_name != 'Dietary risks']\n",
    "\n",
    "\n",
    "alcohol_use = df.loc[df['rei_name'] == 'Alcohol use']\n",
    "iron_deficiency = df.loc[df['rei_name'] == 'Iron deficiency']\n",
    "vitamin_a_def = df.loc[df['rei_name'] == 'Vitamin A deficiency']\n",
    "zinc_def = df.loc[df['rei_name'] == 'Zinc deficiency']\n",
    "low_fruits = df.loc[df['rei_name'] == 'Diet low in fruits']\n",
    "low_vegetables = df.loc[df['rei_name'] == 'Diet low in vegetables']\n",
    "low_wholegrains = df.loc[df['rei_name'] == 'Diet low in whole grains']\n",
    "low_nutsseeds = df.loc[df['rei_name'] == 'Diet low in nuts and seeds']\n",
    "low_milk = df.loc[df['rei_name'] == 'Diet low in milk']\n",
    "high_redmeat = df.loc[df['rei_name'] == 'Diet high in red meat']\n",
    "high_processedmeat = df.loc[df['rei_name'] == 'Diet high in processed meat']\n",
    "high_sugarbev = df.loc[df['rei_name'] == 'Diet high in sugar-sweetened beverage']\n",
    "low_fiber = df.loc[df['rei_name'] == 'Diet low in fiber']\n",
    "suboptimal_calcium = df.loc[df['rei_name'] == 'Diet suboptimal in calcium']\n",
    "low_omega3 = df.loc[df['rei_name'] == 'Diet low in seafood omega-3 fatty acids']\n",
    "low_polyunsaturated = df.loc[df['rei_name'] == 'Diet low in polyunsaturated fatty acids']\n",
    "high_transfattyacid = df.loc[df['rei_name'] == 'Diet high in trans fatty acids']\n",
    "high_sodium = df.loc[df['rei_name'] == 'Diet high in sodium']"
   ]
  },
  {
   "cell_type": "markdown",
   "metadata": {},
   "source": [
    "<h3>Create a chart for a risk and see its prominence in each of the world's regions and prediction for 2020:</h3>"
   ]
  },
  {
   "cell_type": "code",
   "execution_count": 22,
   "metadata": {
    "collapsed": false
   },
   "outputs": [],
   "source": [
    "from ipywidgets import widgets\n",
    "from IPython.display import display\n",
    "from IPython.display import clear_output\n",
    "\n",
    "columns = df.rei_name.unique().tolist()\n",
    "selection = widgets.Dropdown(description = 'Select a risk')\n",
    "selection.options = columns\n",
    "display(selection)\n",
    "\n",
    "def on_button_clicked(b):\n",
    "    clear_output()\n",
    "    p = sns.lmplot(x=\"year\", y=\"val\", hue=\"location_name\", data=df[df['rei_name']==selection.value]);\n",
    "    plt.xlabel('Year')\n",
    "    plt.ylabel('Death rate (%)')\n",
    "    plt.title(selection.value + ' and Death Rate: All Regions')\n",
    "    \n",
    "button = widgets.Button(description='Create graph')\n",
    "display(button)\n",
    "\n",
    "button.on_click(on_button_clicked)"
   ]
  },
  {
   "cell_type": "markdown",
   "metadata": {},
   "source": [
    "<h3>Create a chart for a region and see each of the risk and its prominence in the region and prediction fo 2020:</h3>"
   ]
  },
  {
   "cell_type": "code",
   "execution_count": 23,
   "metadata": {
    "collapsed": false,
    "scrolled": false
   },
   "outputs": [],
   "source": [
    "columns2 = df.location_name.unique().tolist()\n",
    "selection2 = widgets.Dropdown(description = 'Select a location')\n",
    "selection2.options = columns2\n",
    "display(selection2)\n",
    "\n",
    "def on_button2_clicked(b):\n",
    "    clear_output()\n",
    "    p2 = sns.lmplot(x=\"year\", y=\"val\", hue=\"rei_name\", data=df[df['location_name']==selection2.value]);\n",
    "    plt.xlabel('Year')\n",
    "    plt.ylabel('Death rate (%)')\n",
    "    plt.title(selection2.value + ' and Death Rate: All Risks')\n",
    "    \n",
    "button2 = widgets.Button(description='Create graph')\n",
    "display(button2)\n",
    "\n",
    "button2.on_click(on_button2_clicked)"
   ]
  },
  {
   "cell_type": "markdown",
   "metadata": {},
   "source": [
    "<h3>Our analysis will produce the risk's influence on deaths in the year 2020 as well produce a summary table of its statistics:</h3>"
   ]
  },
  {
   "cell_type": "code",
   "execution_count": 29,
   "metadata": {
    "collapsed": false,
    "scrolled": false
   },
   "outputs": [
    {
     "name": "stdout",
     "output_type": "stream",
     "text": [
      "Iron deficiency in Global: Summary\n",
      "                            OLS Regression Results                            \n",
      "==============================================================================\n",
      "Dep. Variable:                    val   R-squared:                       0.963\n",
      "Model:                            OLS   Adj. R-squared:                  0.954\n",
      "Method:                 Least Squares   F-statistic:                     103.7\n",
      "Date:                Tue, 07 Mar 2017   Prob (F-statistic):           0.000524\n",
      "Time:                        22:18:23   Log-Likelihood:                 55.543\n",
      "No. Observations:                   6   AIC:                            -107.1\n",
      "Df Residuals:                       4   BIC:                            -107.5\n",
      "Df Model:                           1                                         \n",
      "Covariance Type:            nonrobust                                         \n",
      "==============================================================================\n",
      "                 coef    std err          t      P>|t|      [95.0% Conf. Int.]\n",
      "------------------------------------------------------------------------------\n",
      "Intercept      0.0292      0.003     10.796      0.000         0.022     0.037\n",
      "year       -1.377e-05   1.35e-06    -10.184      0.001     -1.75e-05    -1e-05\n",
      "==============================================================================\n",
      "Omnibus:                          nan   Durbin-Watson:                   2.018\n",
      "Prob(Omnibus):                    nan   Jarque-Bera (JB):                1.843\n",
      "Skew:                          -1.351   Prob(JB):                        0.398\n",
      "Kurtosis:                       3.272   Cond. No.                     4.70e+05\n",
      "==============================================================================\n",
      "\n",
      "Warnings:\n",
      "[1] Standard Errors assume that the covariance matrix of the errors is correctly specified.\n",
      "[2] The condition number is large, 4.7e+05. This might indicate that there are\n",
      "strong multicollinearity or other numerical problems.\n",
      "\n",
      "Predictions for Iron deficiency in Globalfor year 2020\n",
      "Global [ 0.00166971]\n",
      "Latin America & Caribbean - WB [ 0.00030084]\n",
      "Europe & Central Asia - WB [  5.27899943e-05]\n",
      "North America [  2.57508711e-05]\n",
      "South Asia - WB [ 0.00165957]\n",
      "East Asia & Pacific - WB [ 0.00033627]\n",
      "Sub-Saharan Africa - WB [ 0.00709921]\n",
      "Middle East & North Africa - WB [ 0.00099383]\n"
     ]
    },
    {
     "name": "stderr",
     "output_type": "stream",
     "text": [
      "//anaconda/lib/python3.5/site-packages/statsmodels/stats/stattools.py:72: UserWarning: omni_normtest is not valid with less than 8 observations; 6 samples were given.\n",
      "  \"samples were given.\" % int(n))\n"
     ]
    }
   ],
   "source": [
    "selection4 = widgets.Dropdown(description = 'Select a risk')\n",
    "selection4.options = columns\n",
    "display(selection4)\n",
    "\n",
    "selection5 = widgets.Dropdown(description = 'Select a location')\n",
    "selection5.options = columns2\n",
    "display(selection5)\n",
    "\n",
    "def on_button4_clicked(b):\n",
    "    clear_output()\n",
    "    print(selection4.value + \" in \" + selection5.value +  \": Summary\")\n",
    "    data1 = df[df['rei_name']==selection4.value]\n",
    "    data2 = data1[data1['location_name']==selection5.value]\n",
    "    lm = smf.ols(formula='val ~ year', data=data2).fit()\n",
    "    print(lm.summary())\n",
    "    print()\n",
    "    \n",
    "    print('Predictions for ' + selection4.value + ' in ' + selection5.value + 'for year 2020')\n",
    "    for locations in df['location_name'].unique():\n",
    "        tempdf = df[df.location_name == locations]\n",
    "        tempdf = tempdf[tempdf.rei_name == selection4.value]\n",
    "        X = tempdf['year']\n",
    "        y = tempdf['val']\n",
    "        model = sm.OLS(y, X)\n",
    "        results = model.fit()\n",
    "        d = []\n",
    "        d.append([locations, results.predict(2020)])\n",
    "        for item in d:\n",
    "            print(item[0], ', '.join(map(str, item[1:])))\n",
    "    \n",
    "button4 = widgets.Button(description='Predict')\n",
    "display(button4)\n",
    "\n",
    "button4.on_click(on_button4_clicked)"
   ]
  }
 ],
 "metadata": {
  "anaconda-cloud": {},
  "kernelspec": {
   "display_name": "Python [conda root]",
   "language": "python",
   "name": "conda-root-py"
  },
  "language_info": {
   "codemirror_mode": {
    "name": "ipython",
    "version": 3
   },
   "file_extension": ".py",
   "mimetype": "text/x-python",
   "name": "python",
   "nbconvert_exporter": "python",
   "pygments_lexer": "ipython3",
   "version": "3.5.2"
  },
  "widgets": {
   "state": {
    "029e5f92caa84d3fb62cea12c2275325": {
     "views": [
      {
       "cell_index": 13
      }
     ]
    },
    "030dca405e244511bbadd931bf5e3b2e": {
     "views": [
      {
       "cell_index": 14
      }
     ]
    },
    "0a81fe4487a048999cee2ee755be36ce": {
     "views": [
      {
       "cell_index": 14
      }
     ]
    },
    "2d7e72d96769431989c3f305f10b57af": {
     "views": [
      {
       "cell_index": 15
      }
     ]
    },
    "4153de2a723b45e0bdb09dbddf6f5045": {
     "views": [
      {
       "cell_index": 16
      }
     ]
    },
    "4a159ddb324e4505b19655473010abae": {
     "views": [
      {
       "cell_index": 11
      }
     ]
    },
    "51c4339b27e5448b94c5cbe4e65ba710": {
     "views": [
      {
       "cell_index": 15
      }
     ]
    },
    "552d391e2c3c46e88c24db5c22d487b5": {
     "views": [
      {
       "cell_index": 13
      }
     ]
    },
    "5d4a6aa335734031a5667896b4f55cd5": {
     "views": [
      {
       "cell_index": 11
      }
     ]
    },
    "8be1aff4c3e84809adcf123d1020aa6c": {
     "views": [
      {
       "cell_index": 14
      }
     ]
    },
    "974de7a50f8f4d049848db54757532bb": {
     "views": [
      {
       "cell_index": 14
      }
     ]
    },
    "d3eb1852cc2a404ba1b75695a0987cb6": {
     "views": [
      {
       "cell_index": 13
      }
     ]
    },
    "db7b9f75eb0b4d62b91f1a1134ae70dc": {
     "views": [
      {
       "cell_index": 16
      }
     ]
    },
    "df2fa1c7745a4c11a6fcc2172ba7eb51": {
     "views": [
      {
       "cell_index": 13
      }
     ]
    },
    "e95e7878d5414597a5518e8f98e371d1": {
     "views": [
      {
       "cell_index": 11
      }
     ]
    },
    "ee13db6346ae4907aa7629f88f3ac850": {
     "views": [
      {
       "cell_index": 11
      }
     ]
    },
    "f6b3532b0b634f3599824ac0010d1c34": {
     "views": [
      {
       "cell_index": 14
      }
     ]
    }
   },
   "version": "1.2.0"
  }
 },
 "nbformat": 4,
 "nbformat_minor": 2
}
