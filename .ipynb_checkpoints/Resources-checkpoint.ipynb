{
 "cells": [
  {
   "cell_type": "markdown",
   "metadata": {},
   "source": [
    "<h1><center>INFO 370 Final Project Resource: Predicting Global Dietary Risks</center></h1>\n",
    "<h2><center>Brian Luu, Sherry Gao, Youta Ishii, Zak Zheng</center></h2>"
   ]
  },
  {
   "cell_type": "markdown",
   "metadata": {},
   "source": [
    "## Purpose\n",
    "\n",
    "The purpose of this project is to gain understanding of how certain food diets in certain world regions influence the overall death rates in a region. We will be taking a look at data relating to dietary risks and their death rates and conduct analysis, as well as run regression modeling to predict the future prevalence of dietary risks and its effects on death rates in the respective region. "
   ]
  },
  {
   "cell_type": "markdown",
   "metadata": {},
   "source": [
    "## Dataset\n",
    "\n",
    "Below is a general overview of the dataset we used for our analysis:\n",
    "    \n",
    "Context: Risk\n",
    "\n",
    "Location: 8 regions\n",
    "    (Global, East Asia & Pacific, Europe & Central Asia, \n",
    "     Latin America & Caribbean, Middel East & North Africa,\n",
    "     North America, South Asia, Sub-Saharan Africa)\n",
    "\n",
    "Risk: 18 in total\n",
    "\n",
    "Alcohol Use\n",
    "Iron Deficiency\n",
    "Vitamin A Deficiency\n",
    "Zinc Deficiency\n",
    "Diet Low in Fruits\n",
    "Diet Low in Vegetables \n",
    "Diet Low in Whole Grains\n",
    "Diet Low in Nuts and Seeds\n",
    "Diet Low in Milk\n",
    "Diet High in Red Meat\n",
    "Diet HIgh in Processed Meat\n",
    "Diet High in Sugar-Sweetened Bev\n",
    "Diet Low in Fiber\n",
    "Diet Suboptimal in Calcium\n",
    "Diet Low in Seafood Omega 3 Fatty Acids\n",
    "Diet Low in Polyunsaturated Fatty Acids\n",
    "Diet High in Trans Fatty Acids\n",
    "Diet High in Sodium \n",
    "\n",
    "Age: All\n",
    "\n",
    "Sex: Both Biological Sex (Female, Male)\n",
    "\n",
    "Year: 1990, 1995, 2000, 2005, 2010, 2015\n",
    "\n",
    "Measure: Death Rates\n",
    "\n",
    "Metric Used: Percentage\n",
    "\n",
    "\n",
    "We obtained our dataset from GHDx: \n",
    "http://ghdx.healthdata.org/gbd-results-tool/\n",
    "\n",
    "The column glossary can be found on\n",
    "http://www.healthdata.org/terms-defined"
   ]
  },
  {
   "cell_type": "markdown",
   "metadata": {},
   "source": [
    "## Insights\n",
    "\n",
    "After conducting our analysis, we believe our resource is able to compute the future prevalance of these diet-related risks with significant accuracy. We believe our analysis and predictions can be used by world health organizations, as well as government officials, to predict years ahead the overall dietary trends in their respective countries, and begin taking action to mediate or even eradicate the problem as a whole. \n",
    "\n",
    "Users of this resource are able to interact and pull up analytical information and modeling predictions regarding their respective regions. Then, with the new prediction in hand, they are able to further conduct their country, or region-specific research to understand the core issue of the problem. We hope this acts as a catalyst for the ultimate solution to dietary risks and their causes all over the world.  "
   ]
  },
  {
   "cell_type": "markdown",
   "metadata": {},
   "source": [
    "## Set up"
   ]
  },
  {
   "cell_type": "code",
   "execution_count": 3,
   "metadata": {
    "collapsed": false
   },
   "outputs": [],
   "source": [
    "%matplotlib inline\n",
    "import matplotlib.pyplot as plt\n",
    "import numpy as np\n",
    "from sklearn import datasets, linear_model\n",
    "import seaborn as sns\n",
    "import statsmodels.formula.api as smf # linear modeling\n",
    "import statsmodels.api as sm\n",
    "\n",
    "# Read in data\n",
    "import pandas as pd\n",
    "df = pd.read_csv('./final.csv')\n",
    "#import the module so that we can tables when printing dataframes\n",
    "from IPython.display import display, HTML"
   ]
  },
  {
   "cell_type": "markdown",
   "metadata": {},
   "source": [
    "**We will be taking in data from the following years to train our model**"
   ]
  },
  {
   "cell_type": "code",
   "execution_count": 4,
   "metadata": {
    "collapsed": false
   },
   "outputs": [
    {
     "name": "stdout",
     "output_type": "stream",
     "text": [
      "[1990 1995 2000 2010 2005 2015]\n"
     ]
    }
   ],
   "source": [
    "df_years = df.year.unique()\n",
    "print(df_years)"
   ]
  },
  {
   "cell_type": "markdown",
   "metadata": {},
   "source": [
    "**We will be taking data that are collected from the following 8 regions**"
   ]
  },
  {
   "cell_type": "code",
   "execution_count": 5,
   "metadata": {
    "collapsed": false
   },
   "outputs": [
    {
     "name": "stdout",
     "output_type": "stream",
     "text": [
      "['Global' 'Latin America & Caribbean - WB' 'Europe & Central Asia - WB'\n",
      " 'North America' 'South Asia - WB' 'East Asia & Pacific - WB'\n",
      " 'Sub-Saharan Africa - WB' 'Middle East & North Africa - WB']\n"
     ]
    }
   ],
   "source": [
    "df_locations = df.location_name.unique()\n",
    "print(df_locations)"
   ]
  },
  {
   "cell_type": "code",
   "execution_count": 6,
   "metadata": {
    "collapsed": false
   },
   "outputs": [],
   "source": [
    "# Create dataframes for each risk\n",
    "df = df[df.rei_name != 'Low physical activity']\n",
    "df = df[df.rei_name != 'Dietary risks']\n",
    "\n",
    "\n",
    "alcohol_use = df.loc[df['rei_name'] == 'Alcohol use']\n",
    "iron_deficiency = df.loc[df['rei_name'] == 'Iron deficiency']\n",
    "vitamin_a_def = df.loc[df['rei_name'] == 'Vitamin A deficiency']\n",
    "zinc_def = df.loc[df['rei_name'] == 'Zinc deficiency']\n",
    "low_fruits = df.loc[df['rei_name'] == 'Diet low in fruits']\n",
    "low_vegetables = df.loc[df['rei_name'] == 'Diet low in vegetables']\n",
    "low_wholegrains = df.loc[df['rei_name'] == 'Diet low in whole grains']\n",
    "low_nutsseeds = df.loc[df['rei_name'] == 'Diet low in nuts and seeds']\n",
    "low_milk = df.loc[df['rei_name'] == 'Diet low in milk']\n",
    "high_redmeat = df.loc[df['rei_name'] == 'Diet high in red meat']\n",
    "high_processedmeat = df.loc[df['rei_name'] == 'Diet high in processed meat']\n",
    "high_sugarbev = df.loc[df['rei_name'] == 'Diet high in sugar-sweetened beverage']\n",
    "low_fiber = df.loc[df['rei_name'] == 'Diet low in fiber']\n",
    "suboptimal_calcium = df.loc[df['rei_name'] == 'Diet suboptimal in calcium']\n",
    "low_omega3 = df.loc[df['rei_name'] == 'Diet low in seafood omega-3 fatty acids']\n",
    "low_polyunsaturated = df.loc[df['rei_name'] == 'Diet low in polyunsaturated fatty acids']\n",
    "high_transfattyacid = df.loc[df['rei_name'] == 'Diet high in trans fatty acids']\n",
    "high_sodium = df.loc[df['rei_name'] == 'Diet high in sodium']"
   ]
  },
  {
   "cell_type": "markdown",
   "metadata": {},
   "source": [
    "## Method\n",
    "\n",
    "For each of our analysis, we will be using a linear regression model to produce our statistical model and predictions."
   ]
  },
  {
   "cell_type": "markdown",
   "metadata": {},
   "source": [
    "<h3>Create a chart for a risk and see its prominence in each of the world's regions and prediction for 2020:</h3>"
   ]
  },
  {
   "cell_type": "code",
   "execution_count": 7,
   "metadata": {
    "collapsed": false
   },
   "outputs": [],
   "source": [
    "from ipywidgets import widgets\n",
    "from IPython.display import display\n",
    "from IPython.display import clear_output\n",
    "\n",
    "columns = df.rei_name.unique().tolist()\n",
    "selection = widgets.Dropdown(description = 'Select a risk')\n",
    "selection.options = columns\n",
    "display(selection)\n",
    "\n",
    "def on_button_clicked(b):\n",
    "    clear_output()\n",
    "    p = sns.lmplot(x=\"year\", y=\"val\", hue=\"location_name\", data=df[df['rei_name']==selection.value]);\n",
    "    plt.xlabel('Year')\n",
    "    plt.ylabel('Death rate (%)')\n",
    "    plt.title(selection.value + ' and Death Rate: All Regions')\n",
    "    \n",
    "button = widgets.Button(description='Create graph')\n",
    "display(button)\n",
    "\n",
    "button.on_click(on_button_clicked)"
   ]
  },
  {
   "cell_type": "markdown",
   "metadata": {},
   "source": [
    "<h3>Create a chart for a region and see each of the risk and its prominence in the region and prediction fo 2020:</h3>"
   ]
  },
  {
   "cell_type": "code",
   "execution_count": 8,
   "metadata": {
    "collapsed": false,
    "scrolled": false
   },
   "outputs": [],
   "source": [
    "columns2 = df.location_name.unique().tolist()\n",
    "selection2 = widgets.Dropdown(description = 'Select a location')\n",
    "selection2.options = columns2\n",
    "display(selection2)\n",
    "\n",
    "def on_button2_clicked(b):\n",
    "    clear_output()\n",
    "    p2 = sns.lmplot(x=\"year\", y=\"val\", hue=\"rei_name\", data=df[df['location_name']==selection2.value]);\n",
    "    plt.xlabel('Year')\n",
    "    plt.ylabel('Death rate (%)')\n",
    "    plt.title(selection2.value + ' and Death Rate: All Risks')\n",
    "    \n",
    "button2 = widgets.Button(description='Create graph')\n",
    "display(button2)\n",
    "\n",
    "button2.on_click(on_button2_clicked)"
   ]
  },
  {
   "cell_type": "markdown",
   "metadata": {},
   "source": [
    "<h3>Our analysis will produce the risk's influence on deaths in the year 2020 as well produce a summary table of its statistics:</h3>"
   ]
  },
  {
   "cell_type": "code",
   "execution_count": 9,
   "metadata": {
    "collapsed": false,
    "scrolled": false
   },
   "outputs": [],
   "source": [
    "selection4 = widgets.Dropdown(description = 'Select a risk')\n",
    "selection4.options = columns\n",
    "display(selection4)\n",
    "\n",
    "selection5 = widgets.Dropdown(description = 'Select a location')\n",
    "selection5.options = columns2\n",
    "display(selection5)\n",
    "\n",
    "def on_button4_clicked(b):\n",
    "    clear_output()\n",
    "    print(selection4.value + \" in \" + selection5.value +  \": Summary\")\n",
    "    data1 = df[df['rei_name']==selection4.value]\n",
    "    data2 = data1[data1['location_name']==selection5.value]\n",
    "    lm = smf.ols(formula='val ~ year', data=data2).fit()\n",
    "    print(lm.summary())\n",
    "    print()\n",
    "    \n",
    "    print('Predictions for ' + selection4.value + ' in ' + selection5.value + 'for year 2020')\n",
    "    for locations in df['location_name'].unique():\n",
    "        tempdf = df[df.location_name == locations]\n",
    "        tempdf = tempdf[tempdf.rei_name == selection4.value]\n",
    "        X = tempdf['year']\n",
    "        y = tempdf['val']\n",
    "        model = sm.OLS(y, X)\n",
    "        results = model.fit()\n",
    "        d = []\n",
    "        d.append([locations, results.predict(2020)])\n",
    "        for item in d:\n",
    "            print(item[0], ', '.join(map(str, item[1:])))\n",
    "    \n",
    "button4 = widgets.Button(description='Predict')\n",
    "display(button4)\n",
    "\n",
    "button4.on_click(on_button4_clicked)"
   ]
  }
 ],
 "metadata": {
  "anaconda-cloud": {},
  "kernelspec": {
   "display_name": "Python [conda root]",
   "language": "python",
   "name": "conda-root-py"
  },
  "language_info": {
   "codemirror_mode": {
    "name": "ipython",
    "version": 3
   },
   "file_extension": ".py",
   "mimetype": "text/x-python",
   "name": "python",
   "nbconvert_exporter": "python",
   "pygments_lexer": "ipython3",
   "version": "3.5.2"
  },
  "widgets": {
   "state": {
    "2a3a01b8b5ff4e3bb204dbf8ab23ef20": {
     "views": [
      {
       "cell_index": 13
      }
     ]
    },
    "5c68ec6a8f5947e9b8721f6001271c44": {
     "views": [
      {
       "cell_index": 17
      }
     ]
    },
    "7727b69279cc45798133c410da173b34": {
     "views": [
      {
       "cell_index": 17
      }
     ]
    },
    "9a3f2b5ad73440e2a1cb171d44889bd6": {
     "views": [
      {
       "cell_index": 13
      }
     ]
    },
    "cb63410103d042d7b7ecfc6dc6e8fd5f": {
     "views": [
      {
       "cell_index": 15
      }
     ]
    },
    "d920524e551042a0911a5e1c9688e0ba": {
     "views": [
      {
       "cell_index": 15
      }
     ]
    },
    "eb0501192d444dc4b94554dc1b41ecbb": {
     "views": [
      {
       "cell_index": 17
      }
     ]
    }
   },
   "version": "1.2.0"
  }
 },
 "nbformat": 4,
 "nbformat_minor": 2
}
