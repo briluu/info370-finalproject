{
 "cells": [
  {
   "cell_type": "raw",
   "metadata": {},
   "source": [
    "<script>\n",
    "  function code_toggle() {\n",
    "    if (code_shown){\n",
    "      $('div.input').hide('500');\n",
    "      $('#toggleButton').val('Show Code')\n",
    "    } else {\n",
    "      $('div.input').show('500');\n",
    "      $('#toggleButton').val('Hide Code')\n",
    "    }\n",
    "    code_shown = !code_shown\n",
    "  }\n",
    "\n",
    "  $( document ).ready(function(){\n",
    "    code_shown=false;\n",
    "    $('div.input').hide()\n",
    "  });\n",
    "</script>\n",
    "<form action=\"javascript:code_toggle()\"><input type=\"submit\" id=\"toggleButton\" value=\"Show Code\"></form>"
   ]
  },
  {
   "cell_type": "markdown",
   "metadata": {},
   "source": [
    "<h1><center>INFO 370 Final Project: Predicting Global Dietary Risks</center></h1>\n",
    "<h2><center>Brian Luu, Sherry Gao, Youta Ishii, Zak Zheng</center></h2>"
   ]
  },
  {
   "cell_type": "markdown",
   "metadata": {},
   "source": [
    "In this project, we aim to gain understanding of how certain food cultures influence the overall health of a person. We will be taking a look at countries with unique food cultures and seeing how the differences influence a human being based on several health metrics. (Life Expectancy, Rate of Disease Infection, Infant Mortality Rates, etc.)  \n",
    "\n",
    "\n",
    "I obtained our dataset from GHDx, the URL for this particular dataset is \n",
    "http://ghdx.healthdata.org/gbd-results-tool/result/222c99dbd6d88a9661e40a1384c1c404\n",
    "\n",
    "The column glossary can be found on\n",
    "http://www.healthdata.org/terms-defined\n",
    "\n",
    "We downloaded our dataset with following options:\n",
    "\n",
    "GHDx dataset\n",
    "\n",
    "Context: Risk\n",
    "\n",
    "Location: 8 regions\n",
    "Global and \n",
    "\n",
    "Causes:\n",
    "N/A\n",
    "\n",
    "Risk: 20 in total\n",
    "16 dietary factors  \n",
    "Alcohol use  \n",
    "Iron deficiency  \n",
    "Vitamin A deficiency  \n",
    "Zinc deficiency  \n",
    "\n",
    "Age: All\n",
    "\n",
    "Sex: All\n",
    "\n",
    "Year: 1990, 1995, 2000, 2005, 2010, 2015\n",
    "Measure: Death\n",
    "\n",
    "Metric: Percent\n",
    "\n",
    "Data download address:\n",
    "http://ghdx.healthdata.org/gbd-results-tool/result/222c99dbd6d88a9661e40a1384c1c404\n",
    "\n",
    "If you want to know what a term/column means\n",
    "http://www.healthdata.org/terms-defined\n",
    "Sike this doesnt define them all \n"
   ]
  },
  {
   "cell_type": "markdown",
   "metadata": {},
   "source": [
    "Note: There are many causes of deaths that are definitely not relevant to diet, i.e., HIV/AIDS, animal contact, injuries etc. But there are many equally causes that might be related to diet, we have picked 20 risk factors but there are many other ones such as intestinal nematode infectoins, wrinary diseases and male intertility, gynecological diseases that we did not include. The choice of risks is somewhat ad hoc but we believe it is sufficently reliable."
   ]
  },
  {
   "cell_type": "markdown",
   "metadata": {},
   "source": [
    "Another note: I changed my dataset as I was working through our first agreed version, so I have a slightly different one than others'. There are many factors missing in the data, this data is the same as we will see towards the end and so I have decided to expand it a bit by including more age groups and  number of years."
   ]
  },
  {
   "cell_type": "markdown",
   "metadata": {},
   "source": [
    "## Set up"
   ]
  },
  {
   "cell_type": "code",
   "execution_count": 7,
   "metadata": {
    "collapsed": false
   },
   "outputs": [],
   "source": [
    "%matplotlib inline\n",
    "import matplotlib.pyplot as plt\n",
    "import numpy as np\n",
    "from sklearn import datasets, linear_model\n",
    "import seaborn as sns\n",
    "import statsmodels.formula.api as smf # linear modeling\n",
    "import statsmodels.api as sm\n",
    "\n",
    "# Read in data\n",
    "import pandas as pd\n",
    "df = pd.read_csv('./final.csv')\n",
    "#import the module so that we can tables when printing dataframes\n",
    "from IPython.display import display, HTML"
   ]
  },
  {
   "cell_type": "code",
   "execution_count": 8,
   "metadata": {
    "collapsed": false
   },
   "outputs": [
    {
     "data": {
      "text/plain": [
       "array([1990, 1995, 2000, 2010, 2005, 2015])"
      ]
     },
     "execution_count": 8,
     "metadata": {},
     "output_type": "execute_result"
    }
   ],
   "source": [
    "df.year.unique()"
   ]
  },
  {
   "cell_type": "code",
   "execution_count": 9,
   "metadata": {
    "collapsed": false
   },
   "outputs": [
    {
     "data": {
      "text/plain": [
       "array(['Global', 'Latin America & Caribbean - WB',\n",
       "       'Europe & Central Asia - WB', 'North America', 'South Asia - WB',\n",
       "       'East Asia & Pacific - WB', 'Sub-Saharan Africa - WB',\n",
       "       'Middle East & North Africa - WB'], dtype=object)"
      ]
     },
     "execution_count": 9,
     "metadata": {},
     "output_type": "execute_result"
    }
   ],
   "source": [
    "#Uncomment this code to manually check and select areas\n",
    "df.location_name.unique()"
   ]
  },
  {
   "cell_type": "code",
   "execution_count": 10,
   "metadata": {
    "collapsed": false
   },
   "outputs": [],
   "source": [
    "# Create dataframes for each risk\n",
    "df = df[df.rei_name != 'Low physical activity']\n",
    "df = df[df.rei_name != 'Dietary risks']\n",
    "\n",
    "\n",
    "alcohol_use = df.loc[df['rei_name'] == 'Alcohol use']\n",
    "iron_deficiency = df.loc[df['rei_name'] == 'Iron deficiency']\n",
    "vitamin_a_def = df.loc[df['rei_name'] == 'Vitamin A deficiency']\n",
    "zinc_def = df.loc[df['rei_name'] == 'Zinc deficiency']\n",
    "low_fruits = df.loc[df['rei_name'] == 'Diet low in fruits']\n",
    "low_vegetables = df.loc[df['rei_name'] == 'Diet low in vegetables']\n",
    "low_wholegrains = df.loc[df['rei_name'] == 'Diet low in whole grains']\n",
    "low_nutsseeds = df.loc[df['rei_name'] == 'Diet low in nuts and seeds']\n",
    "low_milk = df.loc[df['rei_name'] == 'Diet low in milk']\n",
    "high_redmeat = df.loc[df['rei_name'] == 'Diet high in red meat']\n",
    "high_processedmeat = df.loc[df['rei_name'] == 'Diet high in processed meat']\n",
    "high_sugarbev = df.loc[df['rei_name'] == 'Diet high in sugar-sweetened beverage']\n",
    "low_fiber = df.loc[df['rei_name'] == 'Diet low in fiber']\n",
    "suboptimal_calcium = df.loc[df['rei_name'] == 'Diet suboptimal in calcium']\n",
    "low_omega3 = df.loc[df['rei_name'] == 'Diet low in seafood omega-3 fatty acids']\n",
    "low_polyunsaturated = df.loc[df['rei_name'] == 'Diet low in polyunsaturated fatty acids']\n",
    "high_transfattyacid = df.loc[df['rei_name'] == 'Diet high in trans fatty acids']\n",
    "high_sodium = df.loc[df['rei_name'] == 'Diet high in sodium']"
   ]
  },
  {
   "cell_type": "markdown",
   "metadata": {},
   "source": [
    "<h3>Create a chart for a risk and see its prominence in each of the world's regions:</h3>"
   ]
  },
  {
   "cell_type": "code",
   "execution_count": 11,
   "metadata": {
    "collapsed": false
   },
   "outputs": [],
   "source": [
    "from ipywidgets import widgets\n",
    "from IPython.display import display\n",
    "from IPython.display import clear_output\n",
    "\n",
    "columns = df.rei_name.unique().tolist()\n",
    "selection = widgets.Dropdown(description = 'Select a risk')\n",
    "selection.options = columns\n",
    "display(selection)\n",
    "\n",
    "def on_button_clicked(b):\n",
    "    clear_output()\n",
    "    p = sns.lmplot(x=\"year\", y=\"val\", hue=\"location_name\", data=df[df['rei_name']==selection.value]);\n",
    "    plt.xlabel('Year')\n",
    "    plt.ylabel('Death rate (%)')\n",
    "    plt.title(selection.value + ' and Death Rate: All Regions')\n",
    "    \n",
    "button = widgets.Button(description='Create graph')\n",
    "display(button)\n",
    "\n",
    "button.on_click(on_button_clicked)"
   ]
  },
  {
   "cell_type": "markdown",
   "metadata": {},
   "source": [
    "<h3>Create a chart for a region and see each of the risk and its prominence in the region:</h3>"
   ]
  },
  {
   "cell_type": "code",
   "execution_count": 12,
   "metadata": {
    "collapsed": false,
    "scrolled": false
   },
   "outputs": [],
   "source": [
    "columns2 = df.location_name.unique().tolist()\n",
    "selection2 = widgets.Dropdown(description = 'Select a location')\n",
    "selection2.options = columns2\n",
    "display(selection2)\n",
    "\n",
    "def on_button2_clicked(b):\n",
    "    clear_output()\n",
    "    p2 = sns.lmplot(x=\"year\", y=\"val\", hue=\"rei_name\", data=df[df['location_name']==selection2.value]);\n",
    "    plt.xlabel('Year')\n",
    "    plt.ylabel('Death rate (%)')\n",
    "    plt.title(selection2.value + ' and Death Rate: All Risks')\n",
    "    \n",
    "button2 = widgets.Button(description='Create graph')\n",
    "display(button2)\n",
    "\n",
    "button2.on_click(on_button2_clicked)"
   ]
  },
  {
   "cell_type": "markdown",
   "metadata": {},
   "source": [
    "<h3>Our analysis will produce the risk's influence on deaths in the year 2020 as well produce a summary table of its statistics:</h3>"
   ]
  },
  {
   "cell_type": "code",
   "execution_count": 13,
   "metadata": {
    "collapsed": false
   },
   "outputs": [],
   "source": [
    "columns3 = df.rei_name.unique().tolist()\n",
    "selection3 = widgets.Dropdown(description = 'Select a risk')\n",
    "selection3.options = columns3\n",
    "display(selection3)\n",
    "\n",
    "def on_button3_clicked(b):\n",
    "    clear_output()\n",
    "    print(selection3.value + \" Summary\")\n",
    "    lm = smf.ols(formula='val ~ year', data=df[df['rei_name']==selection3.value]).fit()\n",
    "    print(lm.summary())\n",
    "    \n",
    "button3 = widgets.Button(description='Create Summary')\n",
    "display(button3)\n",
    "\n",
    "button3.on_click(on_button3_clicked)"
   ]
  },
  {
   "cell_type": "code",
   "execution_count": 14,
   "metadata": {
    "collapsed": false,
    "scrolled": false
   },
   "outputs": [],
   "source": [
    "selection4 = widgets.Dropdown(description = 'Select a risk')\n",
    "selection4.options = columns\n",
    "display(selection4)\n",
    "\n",
    "selection5 = widgets.Dropdown(description = 'Select a location')\n",
    "selection5.options = columns2\n",
    "display(selection5)\n",
    "\n",
    "def on_button4_clicked(b):\n",
    "    clear_output()\n",
    "    print(selection4.value + \" in \" + selection5.value +  \": Summary\")\n",
    "    data1 = df[df['rei_name']==selection4.value]\n",
    "    data2 = data1[data1['location_name']==selection5.value]\n",
    "    lm = smf.ols(formula='val ~ year', data=data2).fit()\n",
    "    print(lm.summary())\n",
    "    print()\n",
    "    \n",
    "    for locations in df['location_name'].unique():\n",
    "        tempdf = df[df.location_name == locations]\n",
    "        tempdf = tempdf[tempdf.rei_name == selection4.value]\n",
    "        X = tempdf['year']\n",
    "        y = tempdf['val']\n",
    "        model = sm.OLS(y, X)\n",
    "        results = model.fit()\n",
    "        d = []\n",
    "        d.append([locations, results.predict(2020)])\n",
    "        for item in d:\n",
    "            print(item[0], ', '.join(map(str, item[1:])))\n",
    "    \n",
    "button4 = widgets.Button(description='Create Summary')\n",
    "display(button4)\n",
    "\n",
    "button4.on_click(on_button4_clicked)"
   ]
  }
 ],
 "metadata": {
  "anaconda-cloud": {},
  "kernelspec": {
   "display_name": "Python [conda root]",
   "language": "python",
   "name": "conda-root-py"
  },
  "language_info": {
   "codemirror_mode": {
    "name": "ipython",
    "version": 3
   },
   "file_extension": ".py",
   "mimetype": "text/x-python",
   "name": "python",
   "nbconvert_exporter": "python",
   "pygments_lexer": "ipython3",
   "version": "3.5.2"
  },
  "widgets": {
   "state": {
    "736bca1e3aae48cbbe8e702ec473045f": {
     "views": [
      {
       "cell_index": 11
      }
     ]
    },
    "94842389892d4589a5777a859989ff8b": {
     "views": [
      {
       "cell_index": 15
      }
     ]
    },
    "94f3de9ca24547018e6f479ec5eb22ef": {
     "views": [
      {
       "cell_index": 16
      }
     ]
    },
    "ab84edbf68ce4a468f9fb795216bfe7a": {
     "views": [
      {
       "cell_index": 16
      }
     ]
    },
    "b953716a5f044aa0b07174c463266b02": {
     "views": [
      {
       "cell_index": 16
      }
     ]
    },
    "e5e01d70323d4114b457540188c721e4": {
     "views": [
      {
       "cell_index": 13
      }
     ]
    },
    "e8253b5a63b34fa087afafdae5e3b13a": {
     "views": [
      {
       "cell_index": 11
      }
     ]
    },
    "eaba0c2b31564b98ba2a3784c89d28d7": {
     "views": [
      {
       "cell_index": 15
      }
     ]
    },
    "edfe91f7d2814a0ba643a4e46e2023fc": {
     "views": [
      {
       "cell_index": 13
      }
     ]
    }
   },
   "version": "1.2.0"
  }
 },
 "nbformat": 4,
 "nbformat_minor": 2
}
