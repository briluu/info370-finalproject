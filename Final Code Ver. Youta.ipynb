{
 "cells": [
  {
   "cell_type": "raw",
   "metadata": {},
   "source": [
    "<script>\n",
    "  function code_toggle() {\n",
    "    if (code_shown){\n",
    "      $('div.input').hide('500');\n",
    "      $('#toggleButton').val('Show Code')\n",
    "    } else {\n",
    "      $('div.input').show('500');\n",
    "      $('#toggleButton').val('Hide Code')\n",
    "    }\n",
    "    code_shown = !code_shown\n",
    "  }\n",
    "\n",
    "  $( document ).ready(function(){\n",
    "    code_shown=false;\n",
    "    $('div.input').hide()\n",
    "  });\n",
    "</script>\n",
    "<form action=\"javascript:code_toggle()\"><input type=\"submit\" id=\"toggleButton\" value=\"Show Code\"></form>"
   ]
  },
  {
   "cell_type": "markdown",
   "metadata": {},
   "source": [
    "<h1><center>INFO 370 Final Project: Predicting Global Dietary Risks</center></h1>\n",
    "<h2><center>Brian Luu, Sherry Gao, Youta Ishii, Zak Zheng</center></h2>"
   ]
  },
  {
   "cell_type": "markdown",
   "metadata": {},
   "source": [
    "In this project, we aim to gain understanding of how certain food cultures influence the overall health of a person. We will be taking a look at countries with unique food cultures and seeing how the differences influence a human being based on several health metrics. (Life Expectancy, Rate of Disease Infection, Infant Mortality Rates, etc.)  \n",
    "\n",
    "\n",
    "I obtained our dataset from GHDx, the URL for this particular dataset is \n",
    "http://ghdx.healthdata.org/gbd-results-tool/result/222c99dbd6d88a9661e40a1384c1c404\n",
    "\n",
    "The column glossary can be found on\n",
    "http://www.healthdata.org/terms-defined\n",
    "\n",
    "We downloaded our dataset with following options:\n",
    "\n",
    "GHDx dataset\n",
    "\n",
    "Context: Risk\n",
    "\n",
    "Location: 8 regions\n",
    "Global and \n",
    "\n",
    "Causes:\n",
    "N/A\n",
    "\n",
    "Risk: 20 in total\n",
    "16 dietary factors  \n",
    "Alcohol use  \n",
    "Iron deficiency  \n",
    "Vitamin A deficiency  \n",
    "Zinc deficiency  \n",
    "\n",
    "Age: All\n",
    "\n",
    "Sex: All\n",
    "\n",
    "Year: 1990, 1995, 2000, 2005, 2010, 2015\n",
    "Measure: Death\n",
    "\n",
    "Metric: Percent\n",
    "\n",
    "Data download address:\n",
    "http://ghdx.healthdata.org/gbd-results-tool/result/222c99dbd6d88a9661e40a1384c1c404\n",
    "\n",
    "If you want to know what a term/column means\n",
    "http://www.healthdata.org/terms-defined\n",
    "Sike this doesnt define them all \n"
   ]
  },
  {
   "cell_type": "markdown",
   "metadata": {},
   "source": [
    "Note: There are many causes of deaths that are definitely not relevant to diet, i.e., HIV/AIDS, animal contact, injuries etc. But there are many equally causes that might be related to diet, we have picked 20 risk factors but there are many other ones such as intestinal nematode infectoins, wrinary diseases and male intertility, gynecological diseases that we did not include. The choice of risks is somewhat ad hoc but we believe it is sufficently reliable."
   ]
  },
  {
   "cell_type": "markdown",
   "metadata": {},
   "source": [
    "Another note: I changed my dataset as I was working through our first agreed version, so I have a slightly different one than others'. There are many factors missing in the data, this data is the same as we will see towards the end and so I have decided to expand it a bit by including more age groups and  number of years."
   ]
  },
  {
   "cell_type": "markdown",
   "metadata": {},
   "source": [
    "## Set up"
   ]
  },
  {
   "cell_type": "code",
   "execution_count": 154,
   "metadata": {
    "collapsed": false
   },
   "outputs": [],
   "source": [
    "%matplotlib inline\n",
    "import matplotlib.pyplot as plt\n",
    "import numpy as np\n",
    "from sklearn import datasets, linear_model\n",
    "import seaborn as sns\n",
    "import statsmodels.formula.api as smf # linear modeling\n",
    "import statsmodels.api as sm\n",
    "\n",
    "# Read in data\n",
    "import pandas as pd\n",
    "data = pd.read_csv('./final.csv')\n",
    "#import the module so that we can tables when printing dataframes\n",
    "from IPython.display import display, HTML"
   ]
  },
  {
   "cell_type": "code",
   "execution_count": 155,
   "metadata": {
    "collapsed": false
   },
   "outputs": [
    {
     "data": {
      "text/plain": [
       "array([1990, 2010, 2000, 2005, 1995, 2015])"
      ]
     },
     "execution_count": 155,
     "metadata": {},
     "output_type": "execute_result"
    }
   ],
   "source": [
    "df.year.unique()"
   ]
  },
  {
   "cell_type": "code",
   "execution_count": 156,
   "metadata": {
    "collapsed": false
   },
   "outputs": [
    {
     "data": {
      "text/plain": [
       "array(['Europe & Central Asia - WB', 'North America',\n",
       "       'Latin America & Caribbean - WB', 'Sub-Saharan Africa - WB',\n",
       "       'Middle East & North Africa - WB', 'South Asia - WB', 'Global',\n",
       "       'East Asia & Pacific - WB'], dtype=object)"
      ]
     },
     "execution_count": 156,
     "metadata": {},
     "output_type": "execute_result"
    }
   ],
   "source": [
    "#Uncomment this code to manually check and select areas\n",
    "df.location_name.unique()"
   ]
  },
  {
   "cell_type": "code",
   "execution_count": 157,
   "metadata": {
    "collapsed": false
   },
   "outputs": [],
   "source": [
    "# Create dataframes for each risk\n",
    "df = df[df.rei_name != 'Low physical activity']\n",
    "df = df[df.rei_name != 'Dietary risks']\n",
    "\n",
    "\n",
    "alcohol_use = df.loc[df['rei_name'] == 'Alcohol use']\n",
    "iron_deficiency = df.loc[df['rei_name'] == 'Iron deficiency']\n",
    "vitamin_a_def = df.loc[df['rei_name'] == 'Vitamin A deficiency']\n",
    "zinc_def = df.loc[df['rei_name'] == 'Zinc deficiency']\n",
    "low_fruits = df.loc[df['rei_name'] == 'Diet low in fruits']\n",
    "low_vegetables = df.loc[df['rei_name'] == 'Diet low in vegetables']\n",
    "low_wholegrains = df.loc[df['rei_name'] == 'Diet low in whole grains']\n",
    "low_nutsseeds = df.loc[df['rei_name'] == 'Diet low in nuts and seeds']\n",
    "low_milk = df.loc[df['rei_name'] == 'Diet low in milk']\n",
    "high_redmeat = df.loc[df['rei_name'] == 'Diet high in red meat']\n",
    "high_processedmeat = df.loc[df['rei_name'] == 'Diet high in processed meat']\n",
    "high_sugarbev = df.loc[df['rei_name'] == 'Diet high in sugar-sweetened beverage']\n",
    "low_fiber = df.loc[df['rei_name'] == 'Diet low in fiber']\n",
    "suboptimal_calcium = df.loc[df['rei_name'] == 'Diet suboptimal in calcium']\n",
    "low_omega3 = df.loc[df['rei_name'] == 'Diet low in seafood omega-3 fatty acids']\n",
    "low_polyunsaturated = df.loc[df['rei_name'] == 'Diet low in polyunsaturated fatty acids']\n",
    "high_transfattyacid = df.loc[df['rei_name'] == 'Diet high in trans fatty acids']\n",
    "high_sodium = df.loc[df['rei_name'] == 'Diet high in sodium']"
   ]
  },
  {
   "cell_type": "markdown",
   "metadata": {},
   "source": [
    "<h3>Create a chart for a risk and see its prominence in each of the world's regions:</h3>"
   ]
  },
  {
   "cell_type": "code",
   "execution_count": 158,
   "metadata": {
    "collapsed": false
   },
   "outputs": [
    {
     "data": {
      "image/png": "[encoded data removed]",
      "text/plain": [
       "<matplotlib.figure.Figure at 0x11a526400>"
      ]
     },
     "metadata": {},
     "output_type": "display_data"
    }
   ],
   "source": [
    "from ipywidgets import widgets\n",
    "from IPython.display import display\n",
    "from IPython.display import clear_output\n",
    "\n",
    "columns = df.rei_name.unique().tolist()\n",
    "selection = widgets.Dropdown(description = 'Select a risk')\n",
    "selection.options = columns\n",
    "display(selection)\n",
    "\n",
    "def on_button_clicked(b):\n",
    "    clear_output()\n",
    "    p = sns.lmplot(x=\"year\", y=\"val\", hue=\"location_name\", data=df[df['rei_name']==selection.value]);\n",
    "    plt.xlabel('Year')\n",
    "    plt.ylabel('Death rate (%)')\n",
    "    plt.title(selection.value + ' and Death Rate: All Regions')\n",
    "    \n",
    "button = widgets.Button(description='Create graph')\n",
    "display(button)\n",
    "\n",
    "button.on_click(on_button_clicked)"
   ]
  },
  {
   "cell_type": "markdown",
   "metadata": {},
   "source": [
    "<h3>Create a chart for a region and see each of the risk and its prominence in the region:</h3>"
   ]
  },
  {
   "cell_type": "code",
   "execution_count": 159,
   "metadata": {
    "collapsed": false,
    "scrolled": false
   },
   "outputs": [],
   "source": [
    "columns2 = df.location_name.unique().tolist()\n",
    "selection2 = widgets.Dropdown(description = 'Select a location')\n",
    "selection2.options = columns2\n",
    "display(selection2)\n",
    "\n",
    "def on_button2_clicked(b):\n",
    "    clear_output()\n",
    "    p2 = sns.lmplot(x=\"year\", y=\"val\", hue=\"rei_name\", data=df[df['location_name']==selection2.value]);\n",
    "    plt.xlabel('Year')\n",
    "    plt.ylabel('Death rate (%)')\n",
    "    plt.title(selection2.value + ' and Death Rate: All Risks')\n",
    "    \n",
    "button2 = widgets.Button(description='Create graph')\n",
    "display(button2)\n",
    "\n",
    "button2.on_click(on_button2_clicked)"
   ]
  },
  {
   "cell_type": "markdown",
   "metadata": {},
   "source": [
    "<h3>Our analysis will produce the risk's influence on deaths in the year 2020 as well produce a summary table of its statistics:</h3>"
   ]
  },
  {
   "cell_type": "code",
   "execution_count": 160,
   "metadata": {
    "collapsed": false
   },
   "outputs": [
    {
     "name": "stdout",
     "output_type": "stream",
     "text": [
      "Iron deficiency Summary\n",
      "                            OLS Regression Results                            \n",
      "==============================================================================\n",
      "Dep. Variable:                    val   R-squared:                       0.003\n",
      "Model:                            OLS   Adj. R-squared:                 -0.019\n",
      "Method:                 Least Squares   F-statistic:                    0.1310\n",
      "Date:                Tue, 07 Mar 2017   Prob (F-statistic):              0.719\n",
      "Time:                        16:25:19   Log-Likelihood:                 225.88\n",
      "No. Observations:                  48   AIC:                            -447.8\n",
      "Df Residuals:                      46   BIC:                            -444.0\n",
      "Df Model:                           1                                         \n",
      "Covariance Type:            nonrobust                                         \n",
      "==============================================================================\n",
      "                 coef    std err          t      P>|t|      [95.0% Conf. Int.]\n",
      "------------------------------------------------------------------------------\n",
      "Intercept      0.0289      0.076      0.382      0.704        -0.123     0.181\n",
      "year       -1.367e-05   3.78e-05     -0.362      0.719     -8.97e-05  6.24e-05\n",
      "==============================================================================\n",
      "Omnibus:                       26.577   Durbin-Watson:                   2.209\n",
      "Prob(Omnibus):                  0.000   Jarque-Bera (JB):               40.476\n",
      "Skew:                           1.928   Prob(JB):                     1.62e-09\n",
      "Kurtosis:                       5.317   Cond. No.                     4.70e+05\n",
      "==============================================================================\n",
      "\n",
      "Warnings:\n",
      "[1] Standard Errors assume that the covariance matrix of the errors is correctly specified.\n",
      "[2] The condition number is large, 4.7e+05. This might indicate that there are\n",
      "strong multicollinearity or other numerical problems.\n"
     ]
    }
   ],
   "source": [
    "columns3 = df.rei_name.unique().tolist()\n",
    "selection3 = widgets.Dropdown(description = 'Select a risk')\n",
    "selection3.options = columns3\n",
    "display(selection3)\n",
    "\n",
    "def on_button3_clicked(b):\n",
    "    clear_output()\n",
    "    print(selection3.value + \" Summary\")\n",
    "    lm = smf.ols(formula='val ~ year', data=df[df['rei_name']==selection3.value]).fit()\n",
    "    print(lm.summary())\n",
    "    \n",
    "button3 = widgets.Button(description='Create Summary')\n",
    "display(button3)\n",
    "\n",
    "button3.on_click(on_button3_clicked)"
   ]
  },
  {
   "cell_type": "code",
   "execution_count": 203,
   "metadata": {
    "collapsed": false,
    "scrolled": false
   },
   "outputs": [
    {
     "name": "stdout",
     "output_type": "stream",
     "text": [
      "Iron deficiency in Europe & Central Asia - WB: Summary\n",
      "                            OLS Regression Results                            \n",
      "==============================================================================\n",
      "Dep. Variable:                    val   R-squared:                       0.789\n",
      "Model:                            OLS   Adj. R-squared:                  0.737\n",
      "Method:                 Least Squares   F-statistic:                     14.98\n",
      "Date:                Tue, 07 Mar 2017   Prob (F-statistic):             0.0180\n",
      "Time:                        17:19:45   Log-Likelihood:                 64.529\n",
      "No. Observations:                   6   AIC:                            -125.1\n",
      "Df Residuals:                       4   BIC:                            -125.5\n",
      "Df Model:                           1                                         \n",
      "Covariance Type:            nonrobust                                         \n",
      "==============================================================================\n",
      "                 coef    std err          t      P>|t|      [95.0% Conf. Int.]\n",
      "------------------------------------------------------------------------------\n",
      "Intercept      0.0024      0.001      3.957      0.017         0.001     0.004\n",
      "year        -1.17e-06   3.02e-07     -3.870      0.018     -2.01e-06 -3.31e-07\n",
      "==============================================================================\n",
      "Omnibus:                          nan   Durbin-Watson:                   2.270\n",
      "Prob(Omnibus):                    nan   Jarque-Bera (JB):                0.577\n",
      "Skew:                           0.151   Prob(JB):                        0.749\n",
      "Kurtosis:                       1.511   Cond. No.                     4.70e+05\n",
      "==============================================================================\n",
      "\n",
      "Warnings:\n",
      "[1] Standard Errors assume that the covariance matrix of the errors is correctly specified.\n",
      "[2] The condition number is large, 4.7e+05. This might indicate that there are\n",
      "strong multicollinearity or other numerical problems.\n",
      "\n",
      "Europe & Central Asia - WB [  5.27899943e-05]\n",
      "North America [  2.57508711e-05]\n",
      "Latin America & Caribbean - WB [ 0.00030084]\n",
      "Sub-Saharan Africa - WB [ 0.00709921]\n",
      "Middle East & North Africa - WB [ 0.00099383]\n",
      "South Asia - WB [ 0.00165957]\n",
      "Global [ 0.00166971]\n",
      "East Asia & Pacific - WB [ 0.00033627]\n"
     ]
    },
    {
     "name": "stderr",
     "output_type": "stream",
     "text": [
      "//anaconda/lib/python3.5/site-packages/statsmodels/stats/stattools.py:72: UserWarning:\n",
      "\n",
      "omni_normtest is not valid with less than 8 observations; 6 samples were given.\n",
      "\n"
     ]
    }
   ],
   "source": [
    "selection4 = widgets.Dropdown(description = 'Select a risk')\n",
    "selection4.options = columns\n",
    "display(selection4)\n",
    "\n",
    "selection5 = widgets.Dropdown(description = 'Select a location')\n",
    "selection5.options = columns2\n",
    "display(selection5)\n",
    "\n",
    "def on_button4_clicked(b):\n",
    "    clear_output()\n",
    "    print(selection4.value + \" in \" + selection5.value +  \": Summary\")\n",
    "    data1 = df[df['rei_name']==selection4.value]\n",
    "    data2 = data1[data1['location_name']==selection5.value]\n",
    "    lm = smf.ols(formula='val ~ year', data=data2).fit()\n",
    "    print(lm.summary())\n",
    "    print()\n",
    "    \n",
    "    for locations in df['location_name'].unique():\n",
    "        tempdf = df[df.location_name == locations]\n",
    "        tempdf = tempdf[tempdf.rei_name == selection4.value]\n",
    "        X = tempdf['year']\n",
    "        y = tempdf['val']\n",
    "        model = sm.OLS(y, X)\n",
    "        results = model.fit()\n",
    "        d = []\n",
    "        d.append([locations, results.predict(2020)])\n",
    "        for item in d:\n",
    "            print(item[0], ', '.join(map(str, item[1:])))\n",
    "    \n",
    "button4 = widgets.Button(description='Create Summary')\n",
    "display(button4)\n",
    "\n",
    "button4.on_click(on_button4_clicked)"
   ]
  },
  {
   "cell_type": "code",
   "execution_count": null,
   "metadata": {
    "collapsed": true
   },
   "outputs": [],
   "source": []
  }
 ],
 "metadata": {
  "anaconda-cloud": {},
  "kernelspec": {
   "display_name": "Python [conda root]",
   "language": "python",
   "name": "conda-root-py"
  },
  "language_info": {
   "codemirror_mode": {
    "name": "ipython",
    "version": 3
   },
   "file_extension": ".py",
   "mimetype": "text/x-python",
   "name": "python",
   "nbconvert_exporter": "python",
   "pygments_lexer": "ipython3",
   "version": "3.5.2"
  },
  "widgets": {
   "state": {
    "04944a74190c4fbd8bf3119cc92b0a23": {
     "views": [
      {
       "cell_index": 13
      }
     ]
    },
    "0543c48d8a9c4d7dbdb8325ba75a7d6f": {
     "views": [
      {
       "cell_index": 14
      }
     ]
    },
    "0567d2f3ce3a444ca4bed47a9d15a873": {
     "views": [
      {
       "cell_index": 18
      }
     ]
    },
    "05a7a9593f4a4479b392c75b11ea61bb": {
     "views": [
      {
       "cell_index": 18
      }
     ]
    },
    "05bc8d8143bf43e59f9bcf8c5d72c7f2": {
     "views": [
      {
       "cell_index": 18
      }
     ]
    },
    "05dc3dbdb8414a41990f617406572cfd": {
     "views": [
      {
       "cell_index": 14
      }
     ]
    },
    "06d855d8247841e580dd6b9b92b790b8": {
     "views": [
      {
       "cell_index": 18
      }
     ]
    },
    "0ac37e41478f4cddb7997a215eaf9f13": {
     "views": [
      {
       "cell_index": 18
      }
     ]
    },
    "0d78ae9e590a43058442adaae8da0f2e": {
     "views": [
      {
       "cell_index": 14
      }
     ]
    },
    "10c9fcf1176e403b8d0e14595a877f65": {
     "views": [
      {
       "cell_index": 15
      }
     ]
    },
    "1361ac41ba5b44da8bed3fbd920a6361": {
     "views": [
      {
       "cell_index": 15
      }
     ]
    },
    "16711179d5604ffe941a683da040041c": {
     "views": [
      {
       "cell_index": 15
      }
     ]
    },
    "1854b402516d4a3f84edc11057d2b426": {
     "views": [
      {
       "cell_index": 18
      }
     ]
    },
    "1859913eb3ef4562b8471cd4ff1d82d0": {
     "views": [
      {
       "cell_index": 20
      }
     ]
    },
    "19e08fa41ed14578b93770d4aaca0024": {
     "views": [
      {
       "cell_index": 15
      }
     ]
    },
    "1bde88f71fdd4e9d9fccb7f5d7a7eb9c": {
     "views": [
      {
       "cell_index": 15
      }
     ]
    },
    "1cdaa5cf5e774fb288dc717c6d9e066d": {
     "views": [
      {
       "cell_index": 13
      }
     ]
    },
    "1d5586da79e5419280a6b08c1c1bbc68": {
     "views": [
      {
       "cell_index": 14
      }
     ]
    },
    "204f5d8951eb4efdad7c5d4b07f317cd": {
     "views": [
      {
       "cell_index": 15
      }
     ]
    },
    "23c15d33e85e4c76bf306974cd678cd8": {
     "views": [
      {
       "cell_index": 15
      }
     ]
    },
    "23e490fe3ba941dda4299b941d1f2195": {
     "views": [
      {
       "cell_index": 14
      }
     ]
    },
    "266ce4f6e74c4714a94e7ab76e172895": {
     "views": [
      {
       "cell_index": 15
      }
     ]
    },
    "26ce0e140ec341548461753640927777": {
     "views": [
      {
       "cell_index": 15
      }
     ]
    },
    "27d44966cb1c42a4ab7b8462f5c35872": {
     "views": [
      {
       "cell_index": 15
      }
     ]
    },
    "285e870911b14d69860d2e8fe3b03a67": {
     "views": [
      {
       "cell_index": 18
      }
     ]
    },
    "29a8db808ef24a6584c59abab22d3861": {
     "views": [
      {
       "cell_index": 15
      },
      {
       "cell_index": 15
      },
      {
       "cell_index": 15
      },
      {
       "cell_index": 15
      },
      {
       "cell_index": 15
      },
      {
       "cell_index": 15
      },
      {
       "cell_index": 15
      },
      {
       "cell_index": 15
      }
     ]
    },
    "2a61c9787adb4668bda9d7065606ec5f": {
     "views": [
      {
       "cell_index": 18
      }
     ]
    },
    "2aeeedf8deae4ffd961f3447003a737a": {
     "views": [
      {
       "cell_index": 15
      }
     ]
    },
    "2ca1a00426324c729f492aa10dc41b99": {
     "views": [
      {
       "cell_index": 14
      }
     ]
    },
    "2db49ce5042e492ba9eb6290607a929a": {
     "views": [
      {
       "cell_index": 14
      }
     ]
    },
    "367cb8f73f8b477393c0c7b5cc3055e9": {
     "views": [
      {
       "cell_index": 15
      }
     ]
    },
    "3847375f7d3f46e2b2aba4470b4df9b8": {
     "views": [
      {
       "cell_index": 14
      }
     ]
    },
    "38760e8e83a744039419526d303de45e": {
     "views": [
      {
       "cell_index": 18
      }
     ]
    },
    "3934aac7a7454599838be5093c123677": {
     "views": [
      {
       "cell_index": 18
      }
     ]
    },
    "395fe44dcafd4ffd824612fe41a5531c": {
     "views": [
      {
       "cell_index": 18
      }
     ]
    },
    "3b0bba3035ec487f86900009d3d092c4": {
     "views": [
      {
       "cell_index": 18
      }
     ]
    },
    "3c09d8b6a4cd4206875f7a2bdc0361fd": {
     "views": [
      {
       "cell_index": 15
      }
     ]
    },
    "438eb9cb94b24250bafde6d12556bad6": {
     "views": [
      {
       "cell_index": 18
      }
     ]
    },
    "460080dca33d4166bdff01d5513e126e": {
     "views": [
      {
       "cell_index": 15
      }
     ]
    },
    "49f96b28f45840999c9ce209e6783ab5": {
     "views": [
      {
       "cell_index": 18
      }
     ]
    },
    "4a5b7ff766474512a1c686609419b84e": {
     "views": [
      {
       "cell_index": 15
      }
     ]
    },
    "4af1fa6d486c4bf5aca8c8a4d0257a4e": {
     "views": [
      {
       "cell_index": 14
      }
     ]
    },
    "4c890258010f43a2ad0c92c007c6d5ea": {
     "views": [
      {
       "cell_index": 15
      }
     ]
    },
    "4cbd24da8de34f6895ad35103c6d4486": {
     "views": [
      {
       "cell_index": 18
      }
     ]
    },
    "4fde0ca8072a4b26b6cc0288905a32e2": {
     "views": [
      {
       "cell_index": 15
      }
     ]
    },
    "50ad075edb294d14ba6057ea4cf4901b": {
     "views": [
      {
       "cell_index": 15
      }
     ]
    },
    "53f4f6b5dbba46b28bcc5b632f3aae13": {
     "views": [
      {
       "cell_index": 15
      }
     ]
    },
    "54b99ee91d6b47f28c3f499372b30951": {
     "views": [
      {
       "cell_index": 14
      }
     ]
    },
    "54c8093c25364eab8f7f3e79e6619e7c": {
     "views": [
      {
       "cell_index": 15
      }
     ]
    },
    "5a0ad53591074e0d81d5ae6acb016350": {
     "views": [
      {
       "cell_index": 14
      }
     ]
    },
    "5b2065fd7a574c85a931d6eb8bf89ccc": {
     "views": [
      {
       "cell_index": 14
      }
     ]
    },
    "60bf45bd5d9f42c3be41b4a0d389dc09": {
     "views": [
      {
       "cell_index": 14
      }
     ]
    },
    "60d1bc50153045f595c16af5f788f518": {
     "views": [
      {
       "cell_index": 15
      }
     ]
    },
    "6a7231f580ca42de853b0fe3629e96c9": {
     "views": [
      {
       "cell_index": 12
      }
     ]
    },
    "6b9c0d21227a4e1196ca81c7d9903779": {
     "views": [
      {
       "cell_index": 15
      }
     ]
    },
    "6f8dcb10a1bd4a0bab559c68f1b447fa": {
     "views": [
      {
       "cell_index": 18
      }
     ]
    },
    "72c5b5caf2f84a1ab645d6d85d256415": {
     "views": [
      {
       "cell_index": 15
      }
     ]
    },
    "730eb1bf49564687bc49d751cda5028e": {
     "views": [
      {
       "cell_index": 18
      }
     ]
    },
    "7650f5293e774dac9df42936c4ce1aee": {
     "views": [
      {
       "cell_index": 18
      }
     ]
    },
    "76c82217d79a48ae9ff4920a4521f178": {
     "views": [
      {
       "cell_index": 14
      }
     ]
    },
    "78919d7456ec4934ad0507d36162339e": {
     "views": [
      {
       "cell_index": 14
      }
     ]
    },
    "7d5dce63fb6045259aad2a45da1fbebd": {
     "views": [
      {
       "cell_index": 18
      }
     ]
    },
    "7e1e6c85ecec4cea9934d63a77b844bc": {
     "views": [
      {
       "cell_index": 15
      }
     ]
    },
    "7ff80c1523a14212b4bfa33bc355e1a2": {
     "views": [
      {
       "cell_index": 15
      }
     ]
    },
    "8071895e733344d08eb953ce1bc72460": {
     "views": [
      {
       "cell_index": 18
      }
     ]
    },
    "86409049d6e34425be2d175593ff85e0": {
     "views": [
      {
       "cell_index": 15
      }
     ]
    },
    "898ce069cd11473d8b942b76b54711a9": {
     "views": [
      {
       "cell_index": 18
      }
     ]
    },
    "898d793fa6834d648f46a1bd4fd11565": {
     "views": [
      {
       "cell_index": 18
      }
     ]
    },
    "8a9401e7fb124833a9381ddfd82e2779": {
     "views": [
      {
       "cell_index": 15
      }
     ]
    },
    "8ada6b94f76c438abba34fe61a1657f6": {
     "views": [
      {
       "cell_index": 15
      }
     ]
    },
    "91fe79c775b54af9b27ebf8ed5c3b915": {
     "views": [
      {
       "cell_index": 14
      }
     ]
    },
    "9466ea6cdd484326adb9791cc9d0992d": {
     "views": [
      {
       "cell_index": 18
      }
     ]
    },
    "9719268c93c1478ba61552a2d9960f8b": {
     "views": [
      {
       "cell_index": 15
      }
     ]
    },
    "9a612f52dd2a4d8594784fe96568c7e0": {
     "views": [
      {
       "cell_index": 15
      }
     ]
    },
    "9ca88b04372f4c00b421421dfb932edd": {
     "views": [
      {
       "cell_index": 14
      }
     ]
    },
    "9e088e37ce2149d18bfbf0c7a7d7b6fd": {
     "views": [
      {
       "cell_index": 15
      }
     ]
    },
    "a0229be64336463e8525ec685a799181": {
     "views": [
      {
       "cell_index": 12
      }
     ]
    },
    "a383135617b7454da47a7ac4138a4c7c": {
     "views": [
      {
       "cell_index": 14
      }
     ]
    },
    "a604194cf1fc4d4a9e453b09e7fafbb1": {
     "views": [
      {
       "cell_index": 19
      }
     ]
    },
    "aa81d18e547e4e778673bfe3ef5e0e74": {
     "views": [
      {
       "cell_index": 14
      }
     ]
    },
    "aabe8a941a384387805aa9efbf04cf28": {
     "views": [
      {
       "cell_index": 15
      }
     ]
    },
    "b026f3100c21460fb63bec6fc6480571": {
     "views": [
      {
       "cell_index": 18
      }
     ]
    },
    "b3f600c45c8e43768981a133af78f7ee": {
     "views": [
      {
       "cell_index": 14
      }
     ]
    },
    "b678c731ee21431dadf05a8a655d845d": {
     "views": [
      {
       "cell_index": 18
      }
     ]
    },
    "bdb6afeefaad4ac3b93a5e3f30abf37a": {
     "views": [
      {
       "cell_index": 15
      }
     ]
    },
    "c09482f77a8e4044aee64118b929fad7": {
     "views": [
      {
       "cell_index": 15
      }
     ]
    },
    "c120ce0afb0043c39f4b11ae5dd944da": {
     "views": [
      {
       "cell_index": 18
      }
     ]
    },
    "c6662f057f794c5b8a1a581a1c841a92": {
     "views": [
      {
       "cell_index": 15
      }
     ]
    },
    "c6d6c93b770b44c0b770c41c83aba2d2": {
     "views": [
      {
       "cell_index": 15
      }
     ]
    },
    "c9e421885a374d78b67840b39b87b1d1": {
     "views": [
      {
       "cell_index": 15
      }
     ]
    },
    "ce8baa96a9d74dad85382e009cd59f93": {
     "views": [
      {
       "cell_index": 18
      }
     ]
    },
    "ce9665c0182840248d6609027d3ace2b": {
     "views": [
      {
       "cell_index": 13
      }
     ]
    },
    "ceb43b8df4c84e339e4d7f0fce084eef": {
     "views": [
      {
       "cell_index": 15
      }
     ]
    },
    "cf2ce649d856450095d4319ea921eaa9": {
     "views": [
      {
       "cell_index": 14
      }
     ]
    },
    "d3efd706fb6e4e7491b8f177603b6cb9": {
     "views": [
      {
       "cell_index": 14
      }
     ]
    },
    "d7faa1a1b93b4c59a47c67260ddb150a": {
     "views": [
      {
       "cell_index": 18
      }
     ]
    },
    "ddc6ff06e5cb44fea1fbed3dac84877e": {
     "views": [
      {
       "cell_index": 18
      }
     ]
    },
    "de288eeba2f4401d98a9af3b457c9f0f": {
     "views": [
      {
       "cell_index": 14
      }
     ]
    },
    "de37e23c45f94be28bc1eb155f64f31d": {
     "views": [
      {
       "cell_index": 14
      }
     ]
    },
    "de7b68dc67894fe7863948b6ae5bb6ca": {
     "views": [
      {
       "cell_index": 14
      }
     ]
    },
    "e265640ff4484c2583db9c17ab3fae04": {
     "views": [
      {
       "cell_index": 18
      }
     ]
    },
    "e37e900507394fc8adabd47a50cff6b3": {
     "views": [
      {
       "cell_index": 18
      }
     ]
    },
    "e5e01bc09cef492fa8fdfc7d26437c9a": {
     "views": [
      {
       "cell_index": 15
      }
     ]
    },
    "e8ddd65a7a8742609c7d87382f77c0e0": {
     "views": [
      {
       "cell_index": 12
      }
     ]
    },
    "eb06df481ce94ea297e814ff1c0db35f": {
     "views": [
      {
       "cell_index": 18
      }
     ]
    },
    "ed5d61ee0cf04c30be5a769d8c023626": {
     "views": [
      {
       "cell_index": 18
      }
     ]
    },
    "ed65f1f44b3142eeb6a3165a99aa0abb": {
     "views": [
      {
       "cell_index": 14
      }
     ]
    },
    "ef1347d99f5d42d2b070af6f8f28313f": {
     "views": [
      {
       "cell_index": 14
      }
     ]
    },
    "ef899366bed74dc3ba0db405349eb5d2": {
     "views": [
      {
       "cell_index": 12
      }
     ]
    },
    "efafc974476b4c629f8cf6020f0efdb0": {
     "views": [
      {
       "cell_index": 14
      }
     ]
    },
    "f3046c0acd104534a83ad51bd7d13200": {
     "views": [
      {
       "cell_index": 18
      }
     ]
    },
    "f71f4dbd5aac4c698160f0d1320d73ce": {
     "views": [
      {
       "cell_index": 15
      }
     ]
    },
    "f949e72e5dfc4014af4bf8ec015f626a": {
     "views": [
      {
       "cell_index": 13
      }
     ]
    },
    "fc1132d9617d46e8a03f93b545ca4fdb": {
     "views": [
      {
       "cell_index": 15
      }
     ]
    }
   },
   "version": "1.2.0"
  }
 },
 "nbformat": 4,
 "nbformat_minor": 2
}
